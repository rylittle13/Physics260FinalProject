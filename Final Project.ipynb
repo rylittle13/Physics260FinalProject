{
 "cells": [
  {
   "cell_type": "markdown",
   "metadata": {},
   "source": [
    "Jacob Solomon\n",
    "\n",
    "Ryan Little\n",
    "\n",
    "## Physics 260 - Final Project\n",
    "\n",
    "# Optimizing the efficiency of a linear induction propulsion system\n",
    "\n"
   ]
  },
  {
   "cell_type": "markdown",
   "metadata": {},
   "source": [
    "## 1. Flat rings on the floor\n",
    "\n",
    "### Optimizing B-field produced by the tube\n",
    "parameters to be investigated:\n",
    "\n",
    "1. arrangement of loops\n",
    "    a. radius\n",
    "    b. spacing\n",
    "    c. side-by-side?\n",
    "2. current in loops\n",
    "    a. how much current in each wire (highest field strength to input power ratio)\n",
    "    b. different amount of current in each wire?\n",
    "3. TBD\n",
    ".\n",
    ".\n",
    ".\n",
    "\n",
    "\n",
    "Optimizing: Strength of B-field (MAX), Uniformity of B-field (MAX), Energy required to produce such B-field (MIN)\n",
    "\n",
    "### Optimizing the force acting on the pod\n",
    "parameters to be investigated:\n",
    "\n",
    "1. location of magnetic dipole within B-field\n",
    "\n",
    "2. multiple dipoles?\n",
    "\n",
    "## 2. Solenoid tube\n",
    "\n",
    "parameters TBD\n",
    "\n"
   ]
  },
  {
   "cell_type": "markdown",
   "metadata": {},
   "source": [
    "### Import libraries\n"
   ]
  },
  {
   "cell_type": "code",
   "execution_count": 17,
   "metadata": {
    "collapsed": true
   },
   "outputs": [],
   "source": [
    "from __future__ import division\n",
    "import numpy as np\n",
    "import matplotlib.pyplot as plt\n",
    "## The next line causes matplot lib it plot in the notebook, rather than poping up a window, for animations turn this off \n",
    "%matplotlib inline    \n",
    "from mpl_toolkits.mplot3d import Axes3D   ## this is a special library to plot in 3d we are using today\n",
    "import matplotlib as mpl\n",
    "import matplotlib.cm as cm"
   ]
  },
  {
   "cell_type": "markdown",
   "metadata": {},
   "source": [
    "### Function for calculating B-field at a point due to a ring with current"
   ]
  },
  {
   "cell_type": "code",
   "execution_count": 18,
   "metadata": {
    "collapsed": true
   },
   "outputs": [],
   "source": [
    "#####  B field function simplified\n",
    "def Bloop(r_loop,x_pos,y_pos,z_pos,I,x,y,z):\n",
    "    d_theta = 2*np.pi/100\n",
    "    theta = np.arange(0, 2*np.pi, d_theta)\n",
    "    x_loop = r_loop*np.cos(theta) + x_pos\n",
    "    y_loop = r_loop*np.sin(theta) + y_pos\n",
    "    \n",
    "    dl_x = -r_loop * d_theta * np.sin(theta)\n",
    "    dl_y = r_loop * d_theta * np.cos(theta)\n",
    "    \n",
    "    x_sep = x - x_loop\n",
    "    y_sep = y - y_loop\n",
    "    z_sep = z - z_pos\n",
    "    \n",
    "    mag_rsep = np.sqrt(x_sep**2 + y_sep**2 + z_sep**2)\n",
    "    \n",
    "    Bx = np.sum((1.2566e-6)/(4*np.pi)*I*(dl_y*z_sep)*mag_rsep**-3)\n",
    "    By = np.sum((1.2566e-6)/(4*np.pi)*I*(-dl_x*z_sep)*mag_rsep**-3)\n",
    "    Bz = np.sum((1.2566e-6)/(4*np.pi)*I*(dl_x*y_sep-dl_y*x_sep)*mag_rsep**-3)\n",
    "    \n",
    "    return(Bx,By,Bz)"
   ]
  },
  {
   "cell_type": "markdown",
   "metadata": {},
   "source": [
    "### Function for creating a plane of B-field data in the xz plane"
   ]
  },
  {
   "cell_type": "code",
   "execution_count": 19,
   "metadata": {
    "collapsed": true
   },
   "outputs": [],
   "source": [
    "def B_xz_plane(x_min, x_max, z_min, z_max, x_step, z_step, y_value, r_loop, x_pos, y_pos, z_pos, I):\n",
    "    '''\n",
    "    parameters:\n",
    "    x_min: minimum x value of plane\n",
    "    x_max: maximum x value of plane\n",
    "    z_min: minimum z value of plane\n",
    "    z_max: maximum z value of plane\n",
    "    x_step: distance from each x value to the next\n",
    "    z_step: distance from each z value to the next\n",
    "    y_value: y value of xz plane\n",
    "    R_loop: radius of the ring\n",
    "    x_pos: x position of ring \n",
    "    y_pos: y position of ring\n",
    "    z_pos: z position of ring\n",
    "    I: how much current is in the ring\n",
    "    '''\n",
    "    x_range = np.arange(x_min, x_max, x_step)\n",
    "    z_range = np.arange(z_min, z_max, z_step)\n",
    "    \n",
    "    Bx = np.zeros((np.size(z_range),np.size(x_range)))\n",
    "    By = np.zeros((np.size(z_range),np.size(x_range)))\n",
    "    Bz = np.zeros((np.size(z_range),np.size(x_range)))\n",
    "    \n",
    "    i = 0\n",
    "    while(i < np.size(x_range)):\n",
    "        n = 0\n",
    "        while(n < np.size(z_range)):\n",
    "            Bx[n,i], By[n,i], Bz[n,i] = Bloop(r_loop,x_pos,y_pos,z_pos,I,x_range[i],y_value,z_range[n])\n",
    "            n += 1\n",
    "        i += 1\n",
    "    return(Bx, By, Bz)"
   ]
  },
  {
   "cell_type": "markdown",
   "metadata": {},
   "source": [
    "## 1. Flat rings on the floor\n",
    "### First Iteration\n",
    "Radius = 0.5m\n",
    "\n",
    "Spacing = 1m (center to center)\n",
    "\n",
    "Side to Side: No, single line\n",
    "\n",
    "Current = 100A\n",
    "\n",
    "#### Calculation\n",
    "\n",
    "for force, Jeff said the force on a dipole equals the cross product of the dipole moment, M, and the B-field\n",
    "and the dipole of a ring of current equals the magnitude of current times the area vector\n"
   ]
  },
  {
   "cell_type": "code",
   "execution_count": 63,
   "metadata": {
    "scrolled": false
   },
   "outputs": [
    {
     "name": "stdout",
     "output_type": "stream",
     "text": [
      "[[ 1.  1.  1. ...,  1.  1.  1.]\n",
      " [ 1.  1.  1. ...,  1.  1.  1.]\n",
      " [ 1.  1.  1. ...,  1.  1.  1.]\n",
      " ..., \n",
      " [ 1.  1.  1. ...,  1.  1.  1.]\n",
      " [ 1.  1.  1. ...,  1.  1.  1.]\n",
      " [ 1.  1.  1. ...,  1.  1.  1.]]\n"
     ]
    },
    {
     "data": {
      "image/png": "[encoded data removed]",
      "text/plain": [
       "<matplotlib.figure.Figure at 0x110c335d0>"
      ]
     },
     "metadata": {},
     "output_type": "display_data"
    },
    {
     "data": {
      "image/png": "[encoded data removed]",
      "text/plain": [
       "<matplotlib.figure.Figure at 0x10f52fe90>"
      ]
     },
     "metadata": {},
     "output_type": "display_data"
    }
   ],
   "source": [
    "## define parameters\n",
    "x_min = -10\n",
    "x_max = 10\n",
    "z_min = -1\n",
    "z_max = 1\n",
    "x_step = 0.1\n",
    "z_step = 0.1\n",
    "y_value = 0\n",
    "R_loop = .5\n",
    "x_pos = 0\n",
    "y_pos = 0\n",
    "z_pos = 0\n",
    "I = 10\n",
    "## whew that's a lot of parameters\n",
    "\n",
    "m = 0\n",
    "num_rings = 16 # np.floor(x_max*2/R_loop)\n",
    "spacing = 2*R_loop\n",
    "Bx = 0\n",
    "By = 0\n",
    "Bz = 0\n",
    "x_pos = -(num_rings*spacing/2) + R_loop\n",
    "while(m < num_rings): \n",
    "    Bx_temp,By_temp,Bz_temp = B_xz_plane(x_min,x_max,z_min,z_max, \n",
    "                          x_step, z_step, y_value,R_loop,\n",
    "                          x_pos,y_pos,z_pos,I)\n",
    "    Bx += Bx_temp\n",
    "    By += By_temp\n",
    "    Bz += Bz_temp\n",
    "    m += 1 \n",
    "    #plt.plot([-1,1],[x_pos,x_pos], linewidth = 4.0, c = 'b')\n",
    "    x_pos += spacing\n",
    "\n",
    "## strictly for plotting\n",
    "x_range = np.arange(x_min, x_max, x_step)\n",
    "z_range = np.arange(z_min, z_max, z_step)\n",
    "X_mesh, Z_mesh = np.meshgrid(x_range, z_range)\n",
    "\n",
    "B_mag = np.sqrt(Bx**2 + Bz**2) #np.sqrt(Bx**2 + Bz**2)\n",
    "\n",
    "ok = np.ones((np.size(z_range),np.size(x_range)))\n",
    "i = 0\n",
    "while (i < np.size(x_range)):\n",
    "    n = 0\n",
    "    while (n < np.size(z_range)):\n",
    "        if(B_mag[n,i] > np.mean(B_mag)):\n",
    "            ok[n,i] = 0\n",
    "        n += 1\n",
    "    i += 1\n",
    "    \n",
    "print ok\n",
    "\n",
    "    \n",
    "plt.figure(figsize=(10,10))\n",
    "qplot = plt.quiver(X_mesh, Z_mesh, ok*Bx, ok*Bz)\n",
    "plt.title('B-field in x-z plane at z=0')\n",
    "plt.ylabel('Z position [m]')\n",
    "plt.xlabel('X position [m]')\n",
    "plt.set_cmap('coolwarm')\n",
    "plt.show()\n",
    "\n",
    "\n",
    "plt.plot(x_range, B_mag[8, :])\n",
    "plt.title('B-field magnitude above the rings')\n",
    "plt.ylabel('B-field magnitude [T]')\n",
    "plt.xlabel('X position [m]')\n",
    "plt.show()"
   ]
  },
  {
   "cell_type": "markdown",
   "metadata": {},
   "source": [
    "#### Results"
   ]
  },
  {
   "cell_type": "code",
   "execution_count": 21,
   "metadata": {},
   "outputs": [
    {
     "ename": "NameError",
     "evalue": "name 'x_array' is not defined",
     "output_type": "error",
     "traceback": [
      "\u001b[0;31m---------------------------------------------------------------------------\u001b[0m",
      "\u001b[0;31mNameError\u001b[0m                                 Traceback (most recent call last)",
      "\u001b[0;32m<ipython-input-21-20b1e1a8d016>\u001b[0m in \u001b[0;36m<module>\u001b[0;34m()\u001b[0m\n\u001b[1;32m      5\u001b[0m \u001b[0;34m\u001b[0m\u001b[0m\n\u001b[1;32m      6\u001b[0m \u001b[0mplt\u001b[0m\u001b[0;34m.\u001b[0m\u001b[0mfigure\u001b[0m\u001b[0;34m(\u001b[0m\u001b[0mfigsize\u001b[0m \u001b[0;34m=\u001b[0m \u001b[0;34m(\u001b[0m\u001b[0;36m15\u001b[0m\u001b[0;34m,\u001b[0m\u001b[0;36m5\u001b[0m\u001b[0;34m)\u001b[0m\u001b[0;34m)\u001b[0m\u001b[0;34m\u001b[0m\u001b[0m\n\u001b[0;32m----> 7\u001b[0;31m \u001b[0mqplot\u001b[0m \u001b[0;34m=\u001b[0m \u001b[0mplt\u001b[0m\u001b[0;34m.\u001b[0m\u001b[0mquiver\u001b[0m\u001b[0;34m(\u001b[0m\u001b[0mx_array\u001b[0m\u001b[0;34m,\u001b[0m\u001b[0mz_array\u001b[0m\u001b[0;34m,\u001b[0m\u001b[0mBx_sum\u001b[0m\u001b[0;34m,\u001b[0m\u001b[0mBz_sum\u001b[0m\u001b[0;34m,\u001b[0m\u001b[0munits\u001b[0m \u001b[0;34m=\u001b[0m \u001b[0;34m'width'\u001b[0m\u001b[0;34m)\u001b[0m\u001b[0;34m\u001b[0m\u001b[0m\n\u001b[0m\u001b[1;32m      8\u001b[0m \u001b[0mplt\u001b[0m\u001b[0;34m.\u001b[0m\u001b[0mtitle\u001b[0m\u001b[0;34m(\u001b[0m\u001b[0;34m' B-field in x-z plane at y=0'\u001b[0m\u001b[0;34m)\u001b[0m\u001b[0;34m\u001b[0m\u001b[0m\n\u001b[1;32m      9\u001b[0m \u001b[0mplt\u001b[0m\u001b[0;34m.\u001b[0m\u001b[0mylabel\u001b[0m\u001b[0;34m(\u001b[0m\u001b[0;34m'Z position [m]'\u001b[0m\u001b[0;34m)\u001b[0m\u001b[0;34m\u001b[0m\u001b[0m\n",
      "\u001b[0;31mNameError\u001b[0m: name 'x_array' is not defined"
     ]
    },
    {
     "data": {
      "text/plain": [
       "<matplotlib.figure.Figure at 0x107d6e210>"
      ]
     },
     "metadata": {},
     "output_type": "display_data"
    }
   ],
   "source": [
    "from matplotlib.colors import Normalize\n",
    "\n",
    "colormap = cm.coolwarm\n",
    "norm_B = Normalize(np.sort(B_mag, axis=None))\n",
    "\n",
    "plt.figure(figsize = (15,5))\n",
    "qplot = plt.quiver(x_array,z_array,Bx_sum,Bz_sum,units = 'width')\n",
    "plt.title(' B-field in x-z plane at y=0')\n",
    "plt.ylabel('Z position [m]')\n",
    "plt.xlabel('X position [m]')\n",
    "plt.show()\n",
    "\n",
    "\n",
    "plt.figure(figsize = (15,5))\n",
    "qplot = plt.quiver(x_array,y_array,Bx_sum,By_sum, units = 'width')\n",
    "plt.title('B-field in x-y plane at z=0')\n",
    "plt.ylabel('Y position [m]')\n",
    "plt.xlabel('X position [m]')\n",
    "plt.set_cmap('coolwarm')\n",
    "plt.show()\n",
    "\n"
   ]
  },
  {
   "cell_type": "markdown",
   "metadata": {
    "collapsed": true
   },
   "source": [
    "### Second Iteration\n",
    "Radius = ??m\n",
    "\n",
    "Spacing = ??m (center to center)\n",
    "\n",
    "Side to Side: No, single line\n",
    "\n",
    "Current = ??A\n",
    "\n",
    "#### Calculation\n"
   ]
  },
  {
   "cell_type": "code",
   "execution_count": null,
   "metadata": {
    "collapsed": true
   },
   "outputs": [],
   "source": []
  },
  {
   "cell_type": "markdown",
   "metadata": {},
   "source": [
    "#### Results"
   ]
  },
  {
   "cell_type": "code",
   "execution_count": null,
   "metadata": {
    "collapsed": true
   },
   "outputs": [],
   "source": []
  },
  {
   "cell_type": "markdown",
   "metadata": {},
   "source": [
    "### Third Iteration\n",
    "Radius = ??m\n",
    "\n",
    "Spacing = ??m (center to center)\n",
    "\n",
    "Side to Side: No, single line\n",
    "\n",
    "Current = ??A\n",
    "\n",
    "#### Calculation\n"
   ]
  },
  {
   "cell_type": "code",
   "execution_count": null,
   "metadata": {
    "collapsed": true
   },
   "outputs": [],
   "source": []
  },
  {
   "cell_type": "markdown",
   "metadata": {},
   "source": [
    "#### Results"
   ]
  },
  {
   "cell_type": "code",
   "execution_count": null,
   "metadata": {
    "collapsed": true
   },
   "outputs": [],
   "source": []
  },
  {
   "cell_type": "markdown",
   "metadata": {},
   "source": [
    "### Fourth Iteration\n",
    "Radius = ??m\n",
    "\n",
    "Spacing = ??m (center to center)\n",
    "\n",
    "Side to Side: No, single line\n",
    "\n",
    "Current = ??A\n",
    "\n",
    "#### Calculation\n"
   ]
  },
  {
   "cell_type": "code",
   "execution_count": null,
   "metadata": {
    "collapsed": true
   },
   "outputs": [],
   "source": []
  },
  {
   "cell_type": "markdown",
   "metadata": {},
   "source": [
    "#### Results"
   ]
  },
  {
   "cell_type": "code",
   "execution_count": null,
   "metadata": {
    "collapsed": true
   },
   "outputs": [],
   "source": []
  },
  {
   "cell_type": "markdown",
   "metadata": {},
   "source": [
    "### Fifth Iteration\n",
    "Radius = ??m\n",
    "\n",
    "Spacing = ??m (center to center)\n",
    "\n",
    "Side to Side: No, single line\n",
    "\n",
    "Current = ??A\n",
    "\n",
    "#### Calculation"
   ]
  },
  {
   "cell_type": "code",
   "execution_count": null,
   "metadata": {
    "collapsed": true
   },
   "outputs": [],
   "source": []
  },
  {
   "cell_type": "markdown",
   "metadata": {},
   "source": [
    "#### Results"
   ]
  },
  {
   "cell_type": "code",
   "execution_count": null,
   "metadata": {
    "collapsed": true
   },
   "outputs": [],
   "source": []
  },
  {
   "cell_type": "markdown",
   "metadata": {},
   "source": [
    "And so on..."
   ]
  },
  {
   "cell_type": "markdown",
   "metadata": {},
   "source": [
    "## 2. Solenoid Tube\n",
    "### First Iteration\n",
    "Parameters (TBD)\n",
    "\n",
    "#### Calculation"
   ]
  },
  {
   "cell_type": "code",
   "execution_count": null,
   "metadata": {
    "collapsed": true
   },
   "outputs": [],
   "source": []
  },
  {
   "cell_type": "markdown",
   "metadata": {},
   "source": [
    "#### Results"
   ]
  },
  {
   "cell_type": "code",
   "execution_count": null,
   "metadata": {
    "collapsed": true
   },
   "outputs": [],
   "source": []
  },
  {
   "cell_type": "markdown",
   "metadata": {},
   "source": [
    "And so on..."
   ]
  },
  {
   "cell_type": "code",
   "execution_count": null,
   "metadata": {
    "collapsed": true
   },
   "outputs": [],
   "source": []
  },
  {
   "cell_type": "code",
   "execution_count": null,
   "metadata": {
    "collapsed": true
   },
   "outputs": [],
   "source": []
  },
  {
   "cell_type": "code",
   "execution_count": null,
   "metadata": {
    "collapsed": true
   },
   "outputs": [],
   "source": []
  },
  {
   "cell_type": "code",
   "execution_count": null,
   "metadata": {
    "collapsed": true
   },
   "outputs": [],
   "source": []
  }
 ],
 "metadata": {
  "kernelspec": {
   "display_name": "Python 2",
   "language": "python",
   "name": "python2"
  },
  "language_info": {
   "codemirror_mode": {
    "name": "ipython",
    "version": 2
   },
   "file_extension": ".py",
   "mimetype": "text/x-python",
   "name": "python",
   "nbconvert_exporter": "python",
   "pygments_lexer": "ipython2",
   "version": "2.7.14"
  }
 },
 "nbformat": 4,
 "nbformat_minor": 2
}
