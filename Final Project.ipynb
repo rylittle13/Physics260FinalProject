{
 "cells": [
  {
   "cell_type": "markdown",
   "metadata": {},
   "source": [
    "Jacob Solomon\n",
    "\n",
    "Ryan Little\n",
    "\n",
    "## Physics 260 - Final Project\n",
    "\n",
    "# Optimizing the efficiency of a linear induction propulsion system\n",
    "\n"
   ]
  },
  {
   "cell_type": "markdown",
   "metadata": {},
   "source": [
    "## 1. Flat rings on the floor\n",
    "\n",
    "### Optimizing B-field produced by the tube\n",
    "parameters to be investigated:\n",
    "\n",
    "1. arrangement of loops\n",
    "    a. radius\n",
    "    b. spacing\n",
    "    c. side-by-side?\n",
    "2. current in loops\n",
    "    a. how much current in each wire (highest field strength to input power ratio)\n",
    "    b. different amount of current in each wire?\n",
    "3. TBD\n",
    ".\n",
    ".\n",
    ".\n",
    "\n",
    "\n",
    "Optimizing: Strength of B-field (MAX), Uniformity of B-field (MAX), Energy required to produce such B-field (MIN)\n",
    "\n",
    "### Optimizing the force acting on the pod\n",
    "parameters to be investigated:\n",
    "\n",
    "1. location of magnetic dipole within B-field\n",
    "\n",
    "2. multiple dipoles?\n",
    "\n",
    "## 2. Solenoid tube\n",
    "\n",
    "parameters TBD\n",
    "\n"
   ]
  },
  {
   "cell_type": "markdown",
   "metadata": {},
   "source": [
    "### Import libraries\n"
   ]
  },
  {
   "cell_type": "code",
   "execution_count": 5,
   "metadata": {
    "collapsed": true
   },
   "outputs": [],
   "source": [
    "from __future__ import division\n",
    "import numpy as np\n",
    "import matplotlib.pyplot as plt\n",
    "## The next line causes matplot lib it plot in the notebook, rather than poping up a window, for animations turn this off \n",
    "%matplotlib inline    \n",
    "from mpl_toolkits.mplot3d import Axes3D   ## this is a special library to plot in 3d we are using today\n",
    "import matplotlib as mpl\n",
    "import matplotlib.cm as cm"
   ]
  },
  {
   "cell_type": "markdown",
   "metadata": {},
   "source": [
    "### Function for calculating B-field at a point due to a ring with current"
   ]
  },
  {
   "cell_type": "code",
   "execution_count": 6,
   "metadata": {
    "collapsed": true
   },
   "outputs": [],
   "source": [
    "#####  B field function simplified\n",
    "def Bloop(R_loop,x_pos,y_pos,z_pos,I,x,y,z):\n",
    "    d_theta = 2*np.pi/100\n",
    "    theta = np.arange(0, 2*np.pi, d_theta)\n",
    "    x_loop = r_loop*np.cos(theta) + x_pos\n",
    "    y_loop = r_loop*np.sin(theta) + y_pos\n",
    "    \n",
    "    dl_x = -r_loop * d_theta * np.sin(theta)\n",
    "    dl_y = r_loop * d_theta * np.cos(theta)\n",
    "    \n",
    "    x_sep = x - x_loop\n",
    "    y_sep = y - y_loop\n",
    "    z_sep = z - z_pos\n",
    "    \n",
    "    mag_rsep = np.sqrt(x_sep**2 + y_sep**2 + z_sep**2)\n",
    "    \n",
    "    Bx = np.sum((1.2566e-6)/(4*np.pi)*I*(dl_y*z_sep)*mag_rsep**-3)\n",
    "    By = np.sum((1.2566e-6)/(4*np.pi)*I*(-dl_x*z_sep)*mag_rsep**-3)\n",
    "    Bz = np.sum((1.2566e-6)/(4*np.pi)*I*(dl_x*y_sep-dl_y*x_sep)*mag_rsep**-3)\n",
    "    \n",
    "    return(Bx,By,Bz)"
   ]
  },
  {
   "cell_type": "markdown",
   "metadata": {},
   "source": [
    "### Function for creating a plane of B-field data in the xz plane"
   ]
  },
  {
   "cell_type": "code",
   "execution_count": 7,
   "metadata": {
    "collapsed": true
   },
   "outputs": [],
   "source": [
    "def B_xz_plane(x_min, x_max, z_min, z_max, y_value, R_loop, x_pos,y_pos,z_pos,I):\n",
    "    '''\n",
    "    parameters:\n",
    "    x_min: minimum x value of plane\n",
    "    x_max: maximum x value of plane\n",
    "    z_min: minimum z value of plane\n",
    "    z_max: maximum z value of plane\n",
    "    y_value: y value of xz plane\n",
    "    \n",
    "    \n",
    "    x_pos: x position of ring \n",
    "    y_pos: y position of ring\n",
    "    z_pos: z position of ring\n",
    "    '''\n",
    "    x_step = 0.01\n",
    "    z_step = 0.01\n",
    "    \n",
    "    x_range = np.arange(x_min, x_max, x_step)\n",
    "    z_range = np.arange(z_min, z_max, z_step)\n",
    "    \n",
    "    Bx = np.zeros((np.size(z_range),np.size(x_range)))\n",
    "    By = np.zeros((np.size(z_range),np.size(x_range)))\n",
    "    Bz = np.zeros((np.size(z_range),np.size(x_range)))\n",
    "    \n",
    "    i = 0\n",
    "    while(i < np.size(x_range)):\n",
    "        n = 0\n",
    "        while(n < np.size(z_range)):\n",
    "            Bx[n,i], By[n,i], Bz[n,i] = Bloop(R_loop,x_pos,y_pos,z_pos,I,x_range[i],y_value,z_range[n])\n",
    "            n += 1\n",
    "        i += 1\n",
    "    return(Bx, By, Bz)        "
   ]
  },
  {
   "cell_type": "markdown",
   "metadata": {},
   "source": [
    "## 1. Flat rings on the floor\n",
    "### First Iteration\n",
    "Radius = 0.5m\n",
    "\n",
    "Spacing = 1m (center to center)\n",
    "\n",
    "Side to Side: No, single line\n",
    "\n",
    "Current = 100A\n",
    "\n",
    "#### Calculation\n",
    "\n",
    "for force, Jeff said the force on a dipole equals the cross product of the dipole moment, M, and the B-field\n",
    "and the dipole of a ring of current equals the magnitude of current times the area vector\n"
   ]
  },
  {
   "cell_type": "code",
   "execution_count": 8,
   "metadata": {},
   "outputs": [
    {
     "name": "stdout",
     "output_type": "stream",
     "text": [
      "1 -9.5\n"
     ]
    },
    {
     "ename": "NameError",
     "evalue": "name 'Bloop_XZ' is not defined",
     "output_type": "error",
     "traceback": [
      "\u001b[0;31m---------------------------------------------------------------------------\u001b[0m",
      "\u001b[0;31mNameError\u001b[0m                                 Traceback (most recent call last)",
      "\u001b[0;32m<ipython-input-8-0091f502fb54>\u001b[0m in \u001b[0;36m<module>\u001b[0;34m()\u001b[0m\n\u001b[1;32m     34\u001b[0m     \u001b[0mn\u001b[0m \u001b[0;34m=\u001b[0m \u001b[0;36m0\u001b[0m\u001b[0;34m\u001b[0m\u001b[0m\n\u001b[1;32m     35\u001b[0m     \u001b[0;32mwhile\u001b[0m\u001b[0;34m(\u001b[0m\u001b[0mn\u001b[0m\u001b[0;34m<\u001b[0m\u001b[0mnp\u001b[0m\u001b[0;34m.\u001b[0m\u001b[0msize\u001b[0m\u001b[0;34m(\u001b[0m\u001b[0mx\u001b[0m\u001b[0;34m)\u001b[0m\u001b[0;34m)\u001b[0m\u001b[0;34m:\u001b[0m\u001b[0;34m\u001b[0m\u001b[0m\n\u001b[0;32m---> 36\u001b[0;31m         \u001b[0mBx\u001b[0m\u001b[0;34m[\u001b[0m\u001b[0;34m:\u001b[0m\u001b[0;34m,\u001b[0m\u001b[0mn\u001b[0m\u001b[0;34m]\u001b[0m\u001b[0;34m,\u001b[0m\u001b[0mBy\u001b[0m\u001b[0;34m[\u001b[0m\u001b[0;34m:\u001b[0m\u001b[0;34m,\u001b[0m\u001b[0mn\u001b[0m\u001b[0;34m]\u001b[0m\u001b[0;34m,\u001b[0m\u001b[0mBz\u001b[0m\u001b[0;34m[\u001b[0m\u001b[0;34m:\u001b[0m\u001b[0;34m,\u001b[0m\u001b[0mn\u001b[0m\u001b[0;34m]\u001b[0m \u001b[0;34m=\u001b[0m \u001b[0mBloop_XZ\u001b[0m\u001b[0;34m(\u001b[0m\u001b[0mR_loop\u001b[0m\u001b[0;34m,\u001b[0m \u001b[0mx_pos\u001b[0m\u001b[0;34m,\u001b[0m \u001b[0my_pos\u001b[0m\u001b[0;34m,\u001b[0m \u001b[0mz_pos\u001b[0m\u001b[0;34m,\u001b[0m \u001b[0mI\u001b[0m\u001b[0;34m,\u001b[0m \u001b[0mxforz_array\u001b[0m\u001b[0;34m[\u001b[0m\u001b[0;34m:\u001b[0m\u001b[0;34m,\u001b[0m\u001b[0mn\u001b[0m\u001b[0;34m]\u001b[0m\u001b[0;34m,\u001b[0m\u001b[0my_pos\u001b[0m\u001b[0;34m,\u001b[0m\u001b[0mz_array\u001b[0m\u001b[0;34m[\u001b[0m\u001b[0;34m:\u001b[0m\u001b[0;34m,\u001b[0m\u001b[0mn\u001b[0m\u001b[0;34m]\u001b[0m\u001b[0;34m)\u001b[0m\u001b[0;34m\u001b[0m\u001b[0m\n\u001b[0m\u001b[1;32m     37\u001b[0m         \u001b[0mn\u001b[0m \u001b[0;34m=\u001b[0m\u001b[0mn\u001b[0m\u001b[0;34m+\u001b[0m\u001b[0;36m1\u001b[0m\u001b[0;34m\u001b[0m\u001b[0m\n\u001b[1;32m     38\u001b[0m     \u001b[0mi\u001b[0m \u001b[0;34m=\u001b[0m \u001b[0;36m1\u001b[0m\u001b[0;34m\u001b[0m\u001b[0m\n",
      "\u001b[0;31mNameError\u001b[0m: name 'Bloop_XZ' is not defined"
     ]
    }
   ],
   "source": [
    "R_loop = 0.5\n",
    "I = 100\n",
    "y_pos = 0\n",
    "z_pos = 0\n",
    "x_max = 10.01\n",
    "y_max = 1.01\n",
    "z_max = 1.01\n",
    "\n",
    "x = np.arange(-x_max,x_max,0.4)\n",
    "y = np.arange(-y_max,y_max,0.1)\n",
    "z = np.arange(-z_max,z_max,0.1)\n",
    "\n",
    "## make meshgrid arrays\n",
    "xforz_array, z_array = np.meshgrid(x,z)\n",
    "\n",
    "xfory_array, y_array = np.meshgrid(x,y)\n",
    "\n",
    "## initialize Bx, By, and Bz arrays\n",
    "Bx = np.zeros((np.size(z),np.size(x)))\n",
    "By = np.zeros((np.size(z),np.size(x)))\n",
    "Bz = np.zeros((np.size(z),np.size(x)))\n",
    "\n",
    "Bx_sum = np.zeros((np.size(z),np.size(x)))\n",
    "By_sum = np.zeros((np.size(z),np.size(x)))\n",
    "Bz_sum = np.zeros((np.size(z),np.size(x)))\n",
    "\n",
    "\n",
    "i = 1\n",
    "number_of_rings = 20\n",
    "while(i < (number_of_rings + 1)):\n",
    "    x_pos = -(x_max + 0.49) + i\n",
    "    print i, x_pos\n",
    "    ## call B-field function for Helmholtz coils\n",
    "    n = 0\n",
    "    while(n<np.size(x)):\n",
    "        Bx[:,n],By[:,n],Bz[:,n] = Bloop_XZ(R_loop, x_pos, y_pos, z_pos, I, xforz_array[:,n],y_pos,z_array[:,n])\n",
    "        n =n+1    \n",
    "    i = 1\n",
    "    \n",
    "i = 1\n",
    "number_of_rings = 20\n",
    "while(i < (number_of_rings + 1)):\n",
    "    x_pos = -(x_max + 0.49) + i\n",
    "    print i, x_pos\n",
    "    ## call B-field function for Helmholtz coils\n",
    "    n = 0\n",
    "    while(n<np.size(x)):\n",
    "        Bx[:,n],By[:,n],Bz[:,n] = Bloop_XY(R_loop, x_pos, y_pos, z_pos, I, xfory_array[:,n],y_array[:,n],z_pos)\n",
    "        n =n+1    \n",
    "        \n",
    "    Bx_sum = Bx_sum + Bx\n",
    "    By_sum = By_sum + By\n",
    "    Bz_sum = Bz_sum + Bz\n",
    "    \n",
    "    i += 1\n",
    "B_mag = np.sqrt(Bx_sum**2 + By_sum**2 + Bz_sum**2)"
   ]
  },
  {
   "cell_type": "markdown",
   "metadata": {},
   "source": [
    "#### Results"
   ]
  },
  {
   "cell_type": "code",
   "execution_count": null,
   "metadata": {
    "collapsed": true
   },
   "outputs": [],
   "source": [
    "from matplotlib.colors import Normalize\n",
    "\n",
    "colormap = cm.coolwarm\n",
    "norm_B = Normalize(np.sort(B_mag, axis=None))\n",
    "\n",
    "plt.figure(figsize = (15,5))\n",
    "qplot = plt.quiver(x_array,z_array,Bx_sum,Bz_sum,units = 'width')\n",
    "plt.title(' B-field in x-z plane at y=0')\n",
    "plt.ylabel('Z position [m]')\n",
    "plt.xlabel('X position [m]')\n",
    "plt.show()\n",
    "\n",
    "\n",
    "plt.figure(figsize = (15,5))\n",
    "qplot = plt.quiver(x_array,y_array,Bx_sum,By_sum, units = 'width')\n",
    "plt.title('B-field in x-y plane at z=0')\n",
    "plt.ylabel('Y position [m]')\n",
    "plt.xlabel('X position [m]')\n",
    "plt.set_cmap('coolwarm')\n",
    "plt.show()\n",
    "\n"
   ]
  },
  {
   "cell_type": "markdown",
   "metadata": {
    "collapsed": true
   },
   "source": [
    "### Second Iteration\n",
    "Radius = ??m\n",
    "\n",
    "Spacing = ??m (center to center)\n",
    "\n",
    "Side to Side: No, single line\n",
    "\n",
    "Current = ??A\n",
    "\n",
    "#### Calculation\n"
   ]
  },
  {
   "cell_type": "code",
   "execution_count": null,
   "metadata": {
    "collapsed": true
   },
   "outputs": [],
   "source": []
  },
  {
   "cell_type": "markdown",
   "metadata": {},
   "source": [
    "#### Results"
   ]
  },
  {
   "cell_type": "code",
   "execution_count": null,
   "metadata": {
    "collapsed": true
   },
   "outputs": [],
   "source": []
  },
  {
   "cell_type": "markdown",
   "metadata": {},
   "source": [
    "### Third Iteration\n",
    "Radius = ??m\n",
    "\n",
    "Spacing = ??m (center to center)\n",
    "\n",
    "Side to Side: No, single line\n",
    "\n",
    "Current = ??A\n",
    "\n",
    "#### Calculation\n"
   ]
  },
  {
   "cell_type": "code",
   "execution_count": null,
   "metadata": {
    "collapsed": true
   },
   "outputs": [],
   "source": []
  },
  {
   "cell_type": "markdown",
   "metadata": {},
   "source": [
    "#### Results"
   ]
  },
  {
   "cell_type": "code",
   "execution_count": null,
   "metadata": {
    "collapsed": true
   },
   "outputs": [],
   "source": []
  },
  {
   "cell_type": "markdown",
   "metadata": {},
   "source": [
    "### Fourth Iteration\n",
    "Radius = ??m\n",
    "\n",
    "Spacing = ??m (center to center)\n",
    "\n",
    "Side to Side: No, single line\n",
    "\n",
    "Current = ??A\n",
    "\n",
    "#### Calculation\n"
   ]
  },
  {
   "cell_type": "code",
   "execution_count": null,
   "metadata": {
    "collapsed": true
   },
   "outputs": [],
   "source": []
  },
  {
   "cell_type": "markdown",
   "metadata": {},
   "source": [
    "#### Results"
   ]
  },
  {
   "cell_type": "code",
   "execution_count": null,
   "metadata": {
    "collapsed": true
   },
   "outputs": [],
   "source": []
  },
  {
   "cell_type": "markdown",
   "metadata": {},
   "source": [
    "### Fifth Iteration\n",
    "Radius = ??m\n",
    "\n",
    "Spacing = ??m (center to center)\n",
    "\n",
    "Side to Side: No, single line\n",
    "\n",
    "Current = ??A\n",
    "\n",
    "#### Calculation"
   ]
  },
  {
   "cell_type": "code",
   "execution_count": null,
   "metadata": {
    "collapsed": true
   },
   "outputs": [],
   "source": []
  },
  {
   "cell_type": "markdown",
   "metadata": {},
   "source": [
    "#### Results"
   ]
  },
  {
   "cell_type": "code",
   "execution_count": null,
   "metadata": {
    "collapsed": true
   },
   "outputs": [],
   "source": []
  },
  {
   "cell_type": "markdown",
   "metadata": {},
   "source": [
    "And so on..."
   ]
  },
  {
   "cell_type": "markdown",
   "metadata": {},
   "source": [
    "## 2. Solenoid Tube\n",
    "### First Iteration\n",
    "Parameters (TBD)\n",
    "\n",
    "#### Calculation"
   ]
  },
  {
   "cell_type": "code",
   "execution_count": null,
   "metadata": {
    "collapsed": true
   },
   "outputs": [],
   "source": []
  },
  {
   "cell_type": "markdown",
   "metadata": {},
   "source": [
    "#### Results"
   ]
  },
  {
   "cell_type": "code",
   "execution_count": null,
   "metadata": {
    "collapsed": true
   },
   "outputs": [],
   "source": []
  },
  {
   "cell_type": "markdown",
   "metadata": {},
   "source": [
    "And so on..."
   ]
  },
  {
   "cell_type": "code",
   "execution_count": null,
   "metadata": {
    "collapsed": true
   },
   "outputs": [],
   "source": []
  },
  {
   "cell_type": "code",
   "execution_count": null,
   "metadata": {
    "collapsed": true
   },
   "outputs": [],
   "source": []
  },
  {
   "cell_type": "code",
   "execution_count": null,
   "metadata": {
    "collapsed": true
   },
   "outputs": [],
   "source": []
  },
  {
   "cell_type": "code",
   "execution_count": null,
   "metadata": {
    "collapsed": true
   },
   "outputs": [],
   "source": []
  }
 ],
 "metadata": {
  "kernelspec": {
   "display_name": "Python 2",
   "language": "python",
   "name": "python2"
  },
  "language_info": {
   "codemirror_mode": {
    "name": "ipython",
    "version": 2
   },
   "file_extension": ".py",
   "mimetype": "text/x-python",
   "name": "python",
   "nbconvert_exporter": "python",
   "pygments_lexer": "ipython2",
   "version": "2.7.14"
  }
 },
 "nbformat": 4,
 "nbformat_minor": 2
}
