{
 "cells": [
  {
   "cell_type": "markdown",
   "metadata": {},
   "source": [
    "Jacob Solomon\n",
    "\n",
    "Ryan Little\n",
    "\n",
    "## Physics 260 - Final Project\n",
    "\n",
    "# Optimizing the efficiency of a linear induction propulsion system\n",
    "\n"
   ]
  },
  {
   "cell_type": "markdown",
   "metadata": {},
   "source": [
    "parameters to be investigated:\n",
    "\n",
    "1. arrangement of loops\n",
    "    a. radius\n",
    "    b. spacing\n",
    "    c. side-by-side?\n",
    "2. current in loops\n",
    "3. TBD\n",
    ".\n",
    ".\n",
    ".\n",
    "\n",
    "\n",
    "Optimizing: Strength of B-field, Uniformity of B-field, Energy required to \n",
    "    "
   ]
  },
  {
   "cell_type": "markdown",
   "metadata": {},
   "source": [
    "### Import libraries\n"
   ]
  },
  {
   "cell_type": "code",
   "execution_count": 7,
   "metadata": {
    "collapsed": true
   },
   "outputs": [],
   "source": [
    "from __future__ import division\n",
    "import numpy as np\n",
    "import matplotlib.pyplot as plt\n",
    "## The next line causes matplot lib it plot in the notebook, rather than poping up a window, for animations turn this off \n",
    "%matplotlib inline    \n",
    "from mpl_toolkits.mplot3d import Axes3D   ## this is a special library to plot in 3d we are using today\n",
    "import matplotlib as mpl\n",
    "import matplotlib.cm as cm"
   ]
  },
  {
   "cell_type": "markdown",
   "metadata": {},
   "source": [
    "### Function for calculating B-field due to a ring with current"
   ]
  },
  {
   "cell_type": "code",
   "execution_count": 8,
   "metadata": {
    "collapsed": true
   },
   "outputs": [],
   "source": [
    "def B_from_loop(R_loop,x_pos,y_pos,I,x,y,z):\n",
    "    # z_loop is the height of the loop\n",
    "    # I is the current of the loop\n",
    "    # delta_theta is the step size of the theta array\n",
    "    # x,y,z are the coordinates of the point you are calculating the magnetic field from\n",
    "    ###################\n",
    "    z_loop = 0\n",
    "    delta_theta = 2*np.pi/100\n",
    "    theta = np.arange(0,2*np.pi,delta_theta)\n",
    "    x_loop = R_loop * np.cos(theta) + x_pos\n",
    "    y_loop = R_loop * np.sin(theta) + y_pos\n",
    "    \n",
    "    ## differentiate x and y\n",
    "    dl_x = - R_loop * delta_theta * np.sin(theta)\n",
    "    dl_y = R_loop * delta_theta * np.cos(theta)\n",
    "    \n",
    "    ########### \"loop to point\" x separation for each x point\n",
    "    Rx = np.zeros((np.size(theta),np.size(z)))\n",
    "    \n",
    "    n = 0 # n corresponds to the number of z points there are, for each one we make a separation array from all loop points\n",
    "    while(n < np.size(z)):\n",
    "        i = 0 # i corresponds to how many loop points there are, each nth column in the array will contain i number of elements\n",
    "        while(i < np.size(theta)):\n",
    "            Rx[i,n] = x[n] - x_loop[i]\n",
    "            i = i + 1\n",
    "        n = n + 1\n",
    "        \n",
    "    \n",
    "    ########### \"loop to point\" y separation for each y point\n",
    "    Ry = np.zeros((np.size(theta),np.size(z)))\n",
    "    \n",
    "    n = 0 # n corresponds to the number of z points there are, for each one we make a separation array from all loop points\n",
    "    while(n < np.size(z)):\n",
    "        i = 0 # i corresponds to how many loop points there are, each nth column in the array will contain i number of elements\n",
    "        while(i < np.size(theta)):\n",
    "            Ry[i,n] = y[n] - y_loop[i]\n",
    "            i = i + 1\n",
    "        n = n + 1\n",
    "        \n",
    "    ########### \"loop to point\" z separation for each z point\n",
    "    Rz = np.zeros((np.size(theta),np.size(z)))\n",
    "    \n",
    "    n = 0 # n corresponds to the number of z points there are, for each one we make a separation array from all loop points\n",
    "    while(n < np.size(z)):\n",
    "        i = 0 # i corresponds to how many loop points there are, each nth column in the array will contain i number of elements\n",
    "        while(i < np.size(theta)):\n",
    "            Rz[i,n] = z[n] - z_loop\n",
    "            i = i + 1\n",
    "        n = n + 1\n",
    "        \n",
    "    ########### Rmag\n",
    "    Rmag = np.zeros((np.size(theta),np.size(z)))\n",
    "    Rmag = np.sqrt(Rx**2 + Ry**2 + Rz**2)\n",
    "    \n",
    "    ## calculate dl x r\n",
    "    dlXr_x = np.zeros((np.size(theta),np.size(z)))\n",
    "    dlXr_y = np.zeros((np.size(theta),np.size(z)))\n",
    "    dlXr_z = np.zeros((np.size(theta),np.size(z)))\n",
    "    \n",
    "    n = 0\n",
    "    while(n<np.size(z)):\n",
    "        i = 0\n",
    "        while(i < np.size(theta)):\n",
    "            dlXr_x[i,n] = dl_y[i]*Rz[i,n]\n",
    "            dlXr_y[i,n] = -dl_x[i]*Rz[i,n]\n",
    "            dlXr_z[i,n] = dl_x[i]*Ry[i,n] - dl_y[i]*Rx[i,n]\n",
    "            i = i + 1\n",
    "        n = n + 1\n",
    "            \n",
    "    ## sum to get B (three components)\n",
    "    Bx = np.zeros(np.size(z))\n",
    "    By = np.zeros(np.size(z))\n",
    "    Bz = np.zeros(np.size(z))\n",
    "    i = 0\n",
    "    \n",
    "    while(i<np.size(z)):\n",
    "        Bx[i] = (((1.2566e-6)*(I))/(4*np.pi))*np.sum((dlXr_x[:,i]/(Rmag[:,i]**3)))\n",
    "        By[i] = (((1.2566e-6)*(I))/(4*np.pi))*np.sum((dlXr_y[:,i]/(Rmag[:,i]**3)))\n",
    "        Bz[i] = (((1.2566e-6)*(I))/(4*np.pi))*np.sum((dlXr_z[:,i]/(Rmag[:,i]**3)))\n",
    "        i = i + 1\n",
    "\n",
    "    return(Bx,By,Bz)"
   ]
  },
  {
   "cell_type": "markdown",
   "metadata": {},
   "source": [
    "#### First Iteration\n",
    "Radius = 0.5m\n",
    "\n",
    "Spacing = 1m (center to center)\n",
    "\n",
    "Side to Side: No, single line\n",
    "\n",
    "Current = 100A"
   ]
  },
  {
   "cell_type": "code",
   "execution_count": null,
   "metadata": {},
   "outputs": [],
   "source": [
    "R_loop = 0.5\n",
    "I = 100\n",
    "x_max = 10.01\n",
    "y_max = 1.01\n",
    "z_max = 1.01\n",
    "\n",
    "x = np.arange(-x_max,x_max,x_max/50)\n",
    "y = 0\n",
    "z = np.arange(-z_max,z_max,z_max/50)\n",
    "\n",
    "## make meshgrid arrays\n",
    "x_array, z_array = np.meshgrid(x,z)\n",
    "\n",
    "y_array = np.zeros((np.size(z),np.size(x)))\n",
    "\n",
    "## initialize Bx, By, and Bz arrays\n",
    "Bx = np.zeros((np.size(z),np.size(x)))\n",
    "By = np.zeros((np.size(z),np.size(x)))\n",
    "Bz = np.zeros((np.size(z),np.size(x)))\n",
    "\n",
    "Bx_sum = np.zeros((np.size(z),np.size(x)))\n",
    "By_sum = np.zeros((np.size(z),np.size(x)))\n",
    "Bz_sum = np.zeros((np.size(z),np.size(x)))\n",
    "\n",
    "i = 1\n",
    "number_of_rings = 20\n",
    "while(i < (number_of_rings + 1)):\n",
    "    x_pos = -x_max + 0.5*i\n",
    "    y_pos = 0\n",
    "\n",
    "    ## call B-field function for Helmholtz coils\n",
    "    n = 0\n",
    "    while(n<np.size(x)):\n",
    "        Bx[:,n],By[:,n],Bz[:,n] = B_from_loop(R_loop, x_pos, y_pos, I, x_array[:,n],y_array[:,n],z_array[:,n])\n",
    "        n =n+1    \n",
    "        \n",
    "    Bx_sum = Bx_sum + Bx\n",
    "    By_sum = By_sum + By\n",
    "    Bz_sum = Bz_sum + Bz\n",
    "    \n",
    "    i += 1\n",
    "    \n",
    "plt.figure(figsize = (10,10))\n",
    "qplot = plt.quiver(x,z,Bx_sum,Bz_sum,units = 'width')\n",
    "plt.title(' B-field in x-z plane ')\n",
    "plt.ylabel('Z position [m]')\n",
    "plt.xlabel('X position [m]')\n",
    "plt.show()"
   ]
  },
  {
   "cell_type": "code",
   "execution_count": null,
   "metadata": {
    "collapsed": true
   },
   "outputs": [],
   "source": []
  }
 ],
 "metadata": {
  "kernelspec": {
   "display_name": "Python 2",
   "language": "python",
   "name": "python2"
  },
  "language_info": {
   "codemirror_mode": {
    "name": "ipython",
    "version": 2
   },
   "file_extension": ".py",
   "mimetype": "text/x-python",
   "name": "python",
   "nbconvert_exporter": "python",
   "pygments_lexer": "ipython2",
   "version": "2.7.14"
  }
 },
 "nbformat": 4,
 "nbformat_minor": 2
}
